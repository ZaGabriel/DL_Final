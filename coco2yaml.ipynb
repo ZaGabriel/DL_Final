{
 "cells": [
  {
   "cell_type": "code",
   "execution_count": 5,
   "metadata": {},
   "outputs": [],
   "source": [
    "import json\n",
    "import cv2\n",
    "import os"
   ]
  },
  {
   "cell_type": "code",
   "execution_count": 20,
   "metadata": {},
   "outputs": [],
   "source": [
    "def coco_resize(src_img, src_json, dst_img, dst_json):\n",
    "    # Resize parameters\n",
    "    new_width = 800\n",
    "    new_height = 800\n",
    "\n",
    "    # Load the COCO annotations\n",
    "    with open(src_json, \"r\") as f:\n",
    "        coco_data = json.load(f)\n",
    "\n",
    "    # Prepare output directory\n",
    "    os.makedirs(dst_img, exist_ok=True)\n",
    "\n",
    "    # Update image dimensions and annotations\n",
    "    for image_info in coco_data[\"images\"]:\n",
    "        # Load image\n",
    "        image_path = os.path.join(src_img, image_info[\"file_name\"])\n",
    "        image = cv2.imread(image_path)\n",
    "        if image is None:\n",
    "            print(f\"Error loading image: {image_path}\")\n",
    "            continue\n",
    "        \n",
    "        # Get original dimensions\n",
    "        original_width = image_info[\"width\"]\n",
    "        original_height = image_info[\"height\"]\n",
    "        \n",
    "        # Resize image\n",
    "        resized_image = cv2.resize(image, (new_width, new_height))\n",
    "        resized_image_path = os.path.join(dst_img, image_info[\"file_name\"])\n",
    "        cv2.imwrite(resized_image_path, resized_image)\n",
    "        \n",
    "        # Update image information\n",
    "        image_info[\"width\"] = new_width\n",
    "        image_info[\"height\"] = new_height\n",
    "\n",
    "        # Update annotations for this image\n",
    "        image_id = image_info[\"id\"]\n",
    "        for annotation in coco_data[\"annotations\"]:\n",
    "            if annotation[\"image_id\"] == image_id:\n",
    "                # Update bounding box\n",
    "                x_min, y_min, width, height = annotation[\"bbox\"]\n",
    "                x_min = x_min * new_width / original_width\n",
    "                y_min = y_min * new_height / original_height\n",
    "                width = width * new_width / original_width\n",
    "                height = height * new_height / original_height\n",
    "                annotation[\"bbox\"] = [x_min, y_min, width, height]\n",
    "\n",
    "\n",
    "    # Save updated COCO annotations\n",
    "    with open(dst_json, \"w\") as f:\n",
    "        json.dump(coco_data, f, indent=4)\n"
   ]
  },
  {
   "cell_type": "code",
   "execution_count": 23,
   "metadata": {},
   "outputs": [],
   "source": [
    "def transToYoloFormat(inDir, outDir):\n",
    "    with open(inDir) as f:\n",
    "        data = json.load(f)\n",
    "    #categories = {cat['id']: cat['name'] for cat in data['categories']}\n",
    "    image_info = {img['id']: img for img in data['images']}\n",
    "\n",
    "    for ann in data['annotations']:\n",
    "        # Extract info\n",
    "        image_id = ann[\"image_id\"]\n",
    "        category_id = ann[\"category_id\"]\n",
    "        bbox = ann[\"bbox\"]  # [x_min, y_min, width, height]\n",
    "        \n",
    "        image = image_info[image_id]\n",
    "        image_width, image_height = image[\"width\"], image[\"height\"]\n",
    "        \n",
    "        # Normalize bounding box\n",
    "        x_min, y_min, box_width, box_height = bbox\n",
    "        center_x = (x_min + box_width / 2) / image_width\n",
    "        center_y = (y_min + box_height / 2) / image_height\n",
    "        norm_width = box_width / image_width\n",
    "        norm_height = box_height / image_height\n",
    "        \n",
    "        # YOLO format line\n",
    "        yolo_line = f\"{category_id - 1} {center_x:.6f} {center_y:.6f} {norm_width:.6f} {norm_height:.6f}\"\n",
    "        \n",
    "        # Save to .txt file\n",
    "        txt_filename = os.path.join(outDir, f\"{image['file_name'].split('.')[0]}.txt\")\n",
    "        with open(txt_filename, \"a\") as txt_file:\n",
    "            txt_file.write(yolo_line + \"\\n\")\n"
   ]
  },
  {
   "cell_type": "code",
   "execution_count": 22,
   "metadata": {},
   "outputs": [],
   "source": [
    "\n",
    "coco_resize('RPC-Dataset/original/train2019', 'RPC-Dataset/original/instances_train2019.json', 'RPC-Dataset/resize_800/train', 'RPC-Dataset/resize_800/train.json')\n",
    "coco_resize('RPC-Dataset/original/test2019', 'RPC-Dataset/original/instances_test2019.json', 'RPC-Dataset/resize_800/test', 'RPC-Dataset/resize_800/test.json')\n",
    "coco_resize('RPC-Dataset/original/val2019', 'RPC-Dataset/original/instances_val2019.json', 'RPC-Dataset/resize_800/val', 'RPC-Dataset/resize_800/val.json')"
   ]
  },
  {
   "cell_type": "code",
   "execution_count": 24,
   "metadata": {},
   "outputs": [],
   "source": [
    "#resize labels\n",
    "transToYoloFormat('RPC-Dataset/resize_800/train.json', 'RPC-Dataset/yolo_resize_800/train/labels')\n",
    "transToYoloFormat('RPC-Dataset/resize_800/test.json', 'RPC-Dataset/yolo_resize_800/test/labels')\n",
    "transToYoloFormat('RPC-Dataset/resize_800/val.json', 'RPC-Dataset/yolo_resize_800/valid/labels')"
   ]
  },
  {
   "cell_type": "code",
   "execution_count": 25,
   "metadata": {},
   "outputs": [],
   "source": [
    "# create yaml file\n",
    "jsonFile = 'RPC-Dataset/resize_800/train.json'\n",
    "\n",
    "outPath = os.path.abspath('RPC-Dataset/yolo_resize_800')\n",
    "\n",
    "for phase in ['train', 'test', 'valid']:\n",
    "    os.makedirs(os.path.join(outPath, phase, 'images'), exist_ok=True)\n",
    "    os.makedirs(os.path.join(outPath, phase, 'labels'), exist_ok=True)\n",
    "\n",
    "\n",
    "with open(jsonFile) as f:\n",
    "    data = json.load(f)\n",
    "\n",
    "categories = [cat['name'] for cat in data['categories']]\n",
    "nc = len(categories)\n",
    "\n",
    "with open(os.path.join(outPath, 'data.yaml'), 'w') as f:\n",
    "    f.write('train: ' + os.path.join(outPath, 'train/images') + '\\n')\n",
    "    f.write('test: ' + os.path.join(outPath, 'test/images') + '\\n')\n",
    "    f.write('val: ' + os.path.join(outPath, 'valid/images') + '\\n\\n')\n",
    "    f.write('nc: ' + str(nc) + '\\n')\n",
    "    f.write('names: ' + str(categories) + '\\n')\n"
   ]
  }
 ],
 "metadata": {
  "kernelspec": {
   "display_name": "pytorch",
   "language": "python",
   "name": "python3"
  },
  "language_info": {
   "codemirror_mode": {
    "name": "ipython",
    "version": 3
   },
   "file_extension": ".py",
   "mimetype": "text/x-python",
   "name": "python",
   "nbconvert_exporter": "python",
   "pygments_lexer": "ipython3",
   "version": "3.8.20"
  }
 },
 "nbformat": 4,
 "nbformat_minor": 2
}
